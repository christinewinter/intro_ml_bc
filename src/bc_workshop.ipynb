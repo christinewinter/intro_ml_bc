{
 "cells": [
  {
   "cell_type": "markdown",
   "metadata": {},
   "source": [
    "# *Data Source*\n",
    "\n",
    "https://www.kaggle.com/uciml/breast-cancer-wisconsin-data/\n",
    "\n",
    "https://archive.ics.uci.edu/ml/datasets/Breast+Cancer+Wisconsin+%28Diagnostic%29"
   ]
  },
  {
   "cell_type": "markdown",
   "metadata": {},
   "source": [
    "# Github"
   ]
  },
  {
   "cell_type": "markdown",
   "metadata": {},
   "source": [
    "https://github.com/christinewinter/intro_ml_bc"
   ]
  },
  {
   "cell_type": "markdown",
   "metadata": {},
   "source": [
    "# What is the goal?"
   ]
  },
  {
   "cell_type": "markdown",
   "metadata": {},
   "source": [
    "Predict if a breast tumor is malign or benign."
   ]
  },
  {
   "cell_type": "markdown",
   "metadata": {},
   "source": [
    "## Import modules "
   ]
  },
  {
   "cell_type": "code",
   "execution_count": null,
   "metadata": {},
   "outputs": [],
   "source": [
    "# Silencing warnings from scikit-learn\n",
    "import warnings\n",
    "warnings.filterwarnings(\"ignore\")\n",
    "\n",
    "# Importing libraries\n",
    "import numpy as np\n",
    "import pandas as pd\n",
    "from matplotlib import pyplot as plt\n",
    "from sklearn import model_selection, linear_model, metrics\n",
    "from sklearn.model_selection import cross_val_score\n",
    "from sklearn.tree import DecisionTreeClassifier, export_graphviz\n",
    "import seaborn as sns\n",
    "import pydotplus"
   ]
  },
  {
   "cell_type": "markdown",
   "metadata": {},
   "source": [
    "# Import breast cancer data"
   ]
  },
  {
   "cell_type": "code",
   "execution_count": null,
   "metadata": {},
   "outputs": [],
   "source": [
    "data = pd.read_csv(\"../data/data.csv\", index_col=0)"
   ]
  },
  {
   "cell_type": "markdown",
   "metadata": {},
   "source": [
    "# Understand the data"
   ]
  },
  {
   "cell_type": "markdown",
   "metadata": {},
   "source": [
    "### Data definition \n",
    "https://www.kaggle.com/uciml/breast-cancer-wisconsin-data/\n"
   ]
  },
  {
   "cell_type": "code",
   "execution_count": null,
   "metadata": {},
   "outputs": [],
   "source": [
    "data.head(10)"
   ]
  },
  {
   "cell_type": "markdown",
   "metadata": {},
   "source": [
    "### Types in python and basic information about the occurence of data "
   ]
  },
  {
   "cell_type": "code",
   "execution_count": null,
   "metadata": {},
   "outputs": [],
   "source": [
    "data.info()"
   ]
  },
  {
   "cell_type": "markdown",
   "metadata": {},
   "source": [
    "## Questions we need to answer: \n",
    "\n",
    "What do these values mean? \n",
    "\n",
    "Which columns stick out? \n",
    "\n",
    "Which columns could be interesting for our model?\n"
   ]
  },
  {
   "cell_type": "code",
   "execution_count": null,
   "metadata": {},
   "outputs": [],
   "source": [
    "\"\"\"\n",
    " Count of malignant (= M) and benign (= B) data points\n",
    "\"\"\"\n",
    "\n",
    "ax = sns.countplot(data.diagnosis,label=\"Count\")"
   ]
  },
  {
   "cell_type": "code",
   "execution_count": null,
   "metadata": {},
   "outputs": [],
   "source": [
    "\"\"\" \n",
    " Create violin plot for first ten features\n",
    "\"\"\"\n",
    "\n",
    "data_dia = data.diagnosis\n",
    "data_f = data.drop('diagnosis', axis=1)\n",
    "data_n_2 = (data_f - data_f.mean()) / (data_f.std())              # standardization\n",
    "data_pp = pd.concat([data_dia, data_n_2.iloc[:,0:10]],axis=1)\n",
    "data_pp = pd.melt(data_pp,id_vars=\"diagnosis\",\n",
    "                    var_name=\"features\",\n",
    "                    value_name='value')\n",
    "plt.figure(figsize=(20,20))\n",
    "sns.violinplot(x=\"features\", y=\"value\", hue=\"diagnosis\", data=data_pp,split=True, inner=\"quart\")\n",
    "plt.xticks(rotation=90)\n"
   ]
  },
  {
   "cell_type": "code",
   "execution_count": null,
   "metadata": {},
   "outputs": [],
   "source": [
    "feature_list = ['radius_mean']  # fill in the other features where median differs between malignant and benign"
   ]
  },
  {
   "cell_type": "code",
   "execution_count": null,
   "metadata": {},
   "outputs": [],
   "source": [
    "\"\"\" \n",
    " Create violin lpot for features 10 - 20 \n",
    "\"\"\"\n",
    "\n",
    "data_pp = pd.concat([data_dia, data_n_2.iloc[:,10:20]],axis=1)\n",
    "data_pp = pd.melt(data_pp,id_vars=\"diagnosis\",\n",
    "                    var_name=\"features\",\n",
    "                    value_name='value')\n",
    "plt.figure(figsize=(20,20))\n",
    "sns.violinplot(x=\"features\", y=\"value\", hue=\"diagnosis\", data=data_pp,split=True, inner=\"quart\")\n",
    "plt.xticks(rotation=90)"
   ]
  },
  {
   "cell_type": "code",
   "execution_count": null,
   "metadata": {},
   "outputs": [],
   "source": [
    "feature_list.extend(['radius_se'])  # fill in features where median differs between malignant and benign"
   ]
  },
  {
   "cell_type": "code",
   "execution_count": null,
   "metadata": {},
   "outputs": [],
   "source": [
    "\"\"\" \n",
    " Create violine lpot for features 20 - 30\n",
    "\"\"\"\n",
    "\n",
    "\n",
    "data_pp = pd.concat([data_dia, data_n_2.iloc[:,20:30]],axis=1)\n",
    "data_pp = pd.melt(data_pp,id_vars=\"diagnosis\",\n",
    "                    var_name=\"features\",\n",
    "                    value_name='value')\n",
    "plt.figure(figsize=(20,20))\n",
    "sns.violinplot(x=\"features\", y=\"value\", hue=\"diagnosis\", data=data_pp,split=True, inner=\"quart\")\n",
    "plt.xticks(rotation=90)"
   ]
  },
  {
   "cell_type": "code",
   "execution_count": null,
   "metadata": {},
   "outputs": [],
   "source": [
    "feature_list.extend(['radius_worst'])  # fill in features where median differs between malignant and benign"
   ]
  },
  {
   "cell_type": "markdown",
   "metadata": {},
   "source": [
    "## Checking correlation\n",
    "\n",
    "Variables that contain the same information / are highly correlated we should sort from the dataset and decide for one. \n",
    "Fewer features reduces computation time and can help to build more robust models.  "
   ]
  },
  {
   "cell_type": "code",
   "execution_count": null,
   "metadata": {},
   "outputs": [],
   "source": [
    "corr = data[feature_list].corr()\n",
    "\n",
    "plt.figure(figsize=(20,20))\n",
    "\n",
    "sns.heatmap(corr, cbar = True, square = True, annot=True, fmt= '.2f', annot_kws={'size': 10},\n",
    "            cmap= 'coolwarm')\n"
   ]
  },
  {
   "cell_type": "markdown",
   "metadata": {},
   "source": [
    "## Questions we need to answer: \n",
    "\n",
    "Which variables are correlated? \n",
    "\n",
    "Which ones should we keep and which ones should we drop? \n"
   ]
  },
  {
   "cell_type": "code",
   "execution_count": null,
   "metadata": {},
   "outputs": [],
   "source": [
    "variables_to_drop = ['radius_worst']  # fill in names here t.ex. 'area_worst'"
   ]
  },
  {
   "cell_type": "markdown",
   "metadata": {},
   "source": [
    "# Feature selection"
   ]
  },
  {
   "cell_type": "markdown",
   "metadata": {},
   "source": [
    "To the the model we need to remove our target variable 'diagnosis' from the training data set x.\n",
    "Therefore we drop this and 'Unnamed: 32' "
   ]
  },
  {
   "cell_type": "code",
   "execution_count": null,
   "metadata": {},
   "outputs": [],
   "source": [
    "feature_list = ['texture_mean','perimeter_mean','smoothness_mean','compactness_mean','symmetry_mean']\n",
    "variables_to_drop = []"
   ]
  },
  {
   "cell_type": "markdown",
   "metadata": {},
   "source": [
    "## Separate target from features "
   ]
  },
  {
   "cell_type": "code",
   "execution_count": null,
   "metadata": {},
   "outputs": [],
   "source": [
    "# Transform diagnosis strings into numerical format so that sklearn can process it \n",
    "y = data.diagnosis.map({'M':1,'B':0}) \n",
    "\n",
    "# Extract features from data\n",
    "x = data[feature_list].drop(variables_to_drop, axis=1)"
   ]
  },
  {
   "cell_type": "code",
   "execution_count": null,
   "metadata": {},
   "outputs": [],
   "source": [
    "x.head()"
   ]
  },
  {
   "cell_type": "code",
   "execution_count": null,
   "metadata": {},
   "outputs": [],
   "source": [
    "y.head()"
   ]
  },
  {
   "cell_type": "markdown",
   "metadata": {},
   "source": [
    "# Train the model"
   ]
  },
  {
   "cell_type": "code",
   "execution_count": null,
   "metadata": {},
   "outputs": [],
   "source": [
    "# Splitting the final dataset into training and testing datasets\n",
    "X_train, X_test, y_train, y_test = model_selection.train_test_split(x, y, random_state=0, test_size = 0.3)"
   ]
  },
  {
   "cell_type": "code",
   "execution_count": null,
   "metadata": {},
   "outputs": [],
   "source": [
    "X_train.count()"
   ]
  },
  {
   "cell_type": "code",
   "execution_count": null,
   "metadata": {},
   "outputs": [],
   "source": [
    "X_test.count()"
   ]
  },
  {
   "cell_type": "code",
   "execution_count": null,
   "metadata": {},
   "outputs": [],
   "source": [
    "# Define a decision tree https://scikit-learn.org/stable/modules/tree.html\n",
    "\n",
    "model = DecisionTreeClassifier(\n",
    "    max_leaf_nodes=8, \n",
    "    random_state=0,\n",
    ") # Random state is fixed for reproducibility"
   ]
  },
  {
   "cell_type": "code",
   "execution_count": null,
   "metadata": {},
   "outputs": [],
   "source": [
    "# Fit the model with training data \n",
    "model.fit(X_train, y_train.tolist())"
   ]
  },
  {
   "cell_type": "markdown",
   "metadata": {},
   "source": [
    "### Visualize the tree"
   ]
  },
  {
   "cell_type": "code",
   "execution_count": null,
   "metadata": {},
   "outputs": [],
   "source": [
    "# Export resulting tree to DOT source code string\n",
    "dot_data = export_graphviz(    model, \n",
    "    out_file=None,\n",
    "    feature_names=X_train.columns,\n",
    "    class_names=['B', 'M'],  # 'B'mapped to 0, 'M' mapped to 1\n",
    "    filled=True, \n",
    "    rounded=True,\n",
    "    proportion= True,\n",
    "    special_characters=True,\n",
    "    label='all')  \n",
    "\n",
    "pydot_graph = pydotplus.graph_from_dot_data(dot_data)\n",
    "pydot_graph.set_size('\"10,10!\"')\n",
    "\n",
    "from IPython.display import Image\n",
    "Image(pydot_graph.create_png())"
   ]
  },
  {
   "cell_type": "markdown",
   "metadata": {},
   "source": [
    "gini: Quality measure of the split\n",
    "\n",
    "samples: procentage of data points that fall in this bucket\n",
    "\n",
    "value: range \n"
   ]
  },
  {
   "cell_type": "code",
   "execution_count": null,
   "metadata": {},
   "outputs": [],
   "source": [
    "from dtreeviz.trees import *\n",
    "\n",
    "viz = dtreeviz(model,\n",
    "               X_train,\n",
    "               y_train,\n",
    "               target_name='diagnosis',\n",
    "               feature_names=X_train.columns.to_list(),\n",
    "               class_names=['B', 'M'])\n",
    "              \n",
    "viz.view()  "
   ]
  },
  {
   "cell_type": "markdown",
   "metadata": {},
   "source": [
    "# Validation"
   ]
  },
  {
   "cell_type": "code",
   "execution_count": null,
   "metadata": {},
   "outputs": [],
   "source": [
    "# Predict our test data\n",
    "y_pred = model.predict(X_test)"
   ]
  },
  {
   "cell_type": "code",
   "execution_count": null,
   "metadata": {},
   "outputs": [],
   "source": [
    "# Evaluate the accuracy of the model \n",
    "# https://scikit-learn.org/stable/modules/generated/sklearn.metrics.accuracy_score.html#sklearn.metrics.accuracy_score\n",
    "metrics.accuracy_score(y_test, y_pred.astype(int))"
   ]
  },
  {
   "cell_type": "code",
   "execution_count": null,
   "metadata": {},
   "outputs": [],
   "source": [
    "y_pred_train = model.predict(X_train)\n",
    "metrics.accuracy_score(y_pred_train, y_train)"
   ]
  },
  {
   "cell_type": "code",
   "execution_count": null,
   "metadata": {},
   "outputs": [],
   "source": [
    "# Cross validation\n",
    "#    * split the data into 10 parts\n",
    "#    * fit on 9-parts\n",
    "#    * test accuracy on the remaining part\n",
    "\n",
    "\n",
    "scores = cross_val_score(model, X_train, y_train, cv=10)\n",
    "print(\"mean: {:.3f} (std: {:.3f})\".format(scores.mean(),\n",
    "                                          scores.std()),\n",
    "                                          end=\"\\n\\n\" )"
   ]
  },
  {
   "cell_type": "markdown",
   "metadata": {},
   "source": [
    "That means that the average accuracy (percentage of correct classifications using the trained model) is 88.9%."
   ]
  },
  {
   "cell_type": "markdown",
   "metadata": {},
   "source": [
    "# THAT'S IT!! "
   ]
  },
  {
   "cell_type": "markdown",
   "metadata": {},
   "source": [
    "Questions, comments, ideas, feedback ? "
   ]
  },
  {
   "cell_type": "markdown",
   "metadata": {},
   "source": [
    "# What else can we do? "
   ]
  },
  {
   "cell_type": "markdown",
   "metadata": {},
   "source": [
    "## Test different model parameters \n",
    "\n",
    "There are many parameters to set for Decision Tree classifiers. Can you find a better model by changing/tuning these?\n",
    "\n",
    "https://scikit-learn.org/stable/modules/tree.html\n"
   ]
  },
  {
   "cell_type": "code",
   "execution_count": null,
   "metadata": {},
   "outputs": [],
   "source": [
    "better_model = DecisionTreeClassifier(class_weight=None, criterion='gini', max_depth=None,\n",
    "                                       max_features=None, max_leaf_nodes=8,\n",
    "                                       min_impurity_decrease=0.0, min_impurity_split=None,\n",
    "                                       min_samples_leaf=1, min_samples_split=2,\n",
    "                                       min_weight_fraction_leaf=0.0, presort=False,\n",
    "                                       random_state=0, splitter='best')"
   ]
  },
  {
   "cell_type": "markdown",
   "metadata": {},
   "source": [
    "## Testing other models from scikit learn \n",
    "https://scikit-learn.org/stable/supervised_learning.html#supervised-learning"
   ]
  },
  {
   "cell_type": "markdown",
   "metadata": {},
   "source": [
    "## Hyper parameter tuning"
   ]
  },
  {
   "cell_type": "markdown",
   "metadata": {},
   "source": [
    "http://chrisstrelioff.ws/sandbox/2015/06/25/decision_trees_in_python_again_cross_validation.html"
   ]
  }
 ],
 "metadata": {
  "kernelspec": {
   "display_name": "Python 3",
   "language": "python",
   "name": "python3"
  },
  "language_info": {
   "codemirror_mode": {
    "name": "ipython",
    "version": 3
   },
   "file_extension": ".py",
   "mimetype": "text/x-python",
   "name": "python",
   "nbconvert_exporter": "python",
   "pygments_lexer": "ipython3",
   "version": "3.7.1"
  }
 },
 "nbformat": 4,
 "nbformat_minor": 2
}
